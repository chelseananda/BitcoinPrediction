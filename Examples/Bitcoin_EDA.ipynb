{
  "cells": [
    {
      "cell_type": "markdown",
      "metadata": {
        "id": "view-in-github",
        "colab_type": "text"
      },
      "source": [
        "<a href=\"https://colab.research.google.com/github/chelseananda/BitcoinPrediction/blob/main/Examples/Bitcoin_EDA.ipynb\" target=\"_parent\"><img src=\"https://colab.research.google.com/assets/colab-badge.svg\" alt=\"Open In Colab\"/></a>"
      ]
    },
    {
      "cell_type": "markdown",
      "id": "c5318fa2",
      "metadata": {
        "papermill": {
          "duration": 0.043283,
          "end_time": "2021-12-09T23:45:14.293368",
          "exception": false,
          "start_time": "2021-12-09T23:45:14.250085",
          "status": "completed"
        },
        "tags": [],
        "id": "c5318fa2"
      },
      "source": [
        "# **Bitcoin**  \n",
        "\n",
        "Bitcoin (₿) is a decentralized digital currency, without a central bank or single administrator, that can be sent from user to user on the peer-to-peer bitcoin network without the need for intermediaries. Transactions are verified by network nodes through cryptography and recorded in a public distributed ledger called a blockchain. The cryptocurrency was invented in 2008 by an unknown person or group of people using the name Satoshi Nakamoto.The currency began use in 2009 when its implementation was released as open-source software.(Source: Wikipedia)\n",
        "\n",
        "The code is ispired from [here](https://www.kaggle.com/code/pralabhpoudel/bitcoin-eda-and-forcasting-using-pycaret) on this [dataset](https://www.kaggle.com/datasets/mczielinski/bitcoin-historical-data)"
      ]
    },
    {
      "cell_type": "code",
      "source": [
        "!pip install --pre pycaret -q "
      ],
      "metadata": {
        "colab": {
          "base_uri": "https://localhost:8080/"
        },
        "id": "-fdin6MS5SwO",
        "outputId": "398cad8c-5a4e-4ffb-bf7d-a8565c8d5097"
      },
      "id": "-fdin6MS5SwO",
      "execution_count": 1,
      "outputs": [
        {
          "output_type": "stream",
          "name": "stdout",
          "text": [
            "\u001b[K     |████████████████████████████████| 487 kB 5.4 MB/s \n",
            "\u001b[K     |████████████████████████████████| 280 kB 29.9 MB/s \n",
            "\u001b[K     |████████████████████████████████| 1.4 MB 48.7 MB/s \n",
            "\u001b[K     |████████████████████████████████| 44 kB 891 kB/s \n",
            "\u001b[?25h  Installing build dependencies ... \u001b[?25l\u001b[?25hdone\n",
            "  Getting requirements to build wheel ... \u001b[?25l\u001b[?25hdone\n",
            "    Preparing wheel metadata ... \u001b[?25l\u001b[?25hdone\n",
            "\u001b[K     |████████████████████████████████| 72 kB 825 kB/s \n",
            "\u001b[K     |████████████████████████████████| 43 kB 1.5 MB/s \n",
            "\u001b[K     |████████████████████████████████| 141 kB 71.6 MB/s \n",
            "\u001b[K     |████████████████████████████████| 2.0 MB 47.7 MB/s \n",
            "\u001b[K     |████████████████████████████████| 79.9 MB 124 kB/s \n",
            "\u001b[K     |████████████████████████████████| 106 kB 59.1 MB/s \n",
            "\u001b[K     |████████████████████████████████| 3.3 MB 41.0 MB/s \n",
            "\u001b[K     |████████████████████████████████| 11.2 MB 48.2 MB/s \n",
            "\u001b[K     |████████████████████████████████| 7.0 MB 37.0 MB/s \n",
            "\u001b[K     |████████████████████████████████| 62 kB 1.4 MB/s \n",
            "\u001b[K     |████████████████████████████████| 1.6 MB 45.6 MB/s \n",
            "\u001b[K     |████████████████████████████████| 965 kB 73.0 MB/s \n",
            "\u001b[K     |████████████████████████████████| 34.5 MB 1.5 MB/s \n",
            "\u001b[K     |████████████████████████████████| 224 kB 54.6 MB/s \n",
            "\u001b[K     |████████████████████████████████| 185 kB 56.9 MB/s \n",
            "\u001b[K     |████████████████████████████████| 9.9 MB 38.7 MB/s \n",
            "\u001b[K     |████████████████████████████████| 272 kB 57.6 MB/s \n",
            "\u001b[K     |████████████████████████████████| 101 kB 10.3 MB/s \n",
            "\u001b[K     |████████████████████████████████| 133 kB 78.9 MB/s \n",
            "\u001b[K     |████████████████████████████████| 101 kB 10.9 MB/s \n",
            "\u001b[K     |████████████████████████████████| 96 kB 5.1 MB/s \n",
            "\u001b[K     |████████████████████████████████| 101 kB 10.5 MB/s \n",
            "\u001b[K     |████████████████████████████████| 95 kB 4.3 MB/s \n",
            "\u001b[K     |████████████████████████████████| 133 kB 69.5 MB/s \n",
            "\u001b[?25h  Building wheel for plotly-resampler (PEP 517) ... \u001b[?25l\u001b[?25hdone\n",
            "  Building wheel for pyod (setup.py) ... \u001b[?25l\u001b[?25hdone\n",
            "  Building wheel for retrying (setup.py) ... \u001b[?25l\u001b[?25hdone\n"
          ]
        }
      ]
    },
    {
      "cell_type": "code",
      "source": [
        "import pycaret\n",
        "pycaret.__version__"
      ],
      "metadata": {
        "colab": {
          "base_uri": "https://localhost:8080/",
          "height": 36
        },
        "id": "R7cBJJOs9-wW",
        "outputId": "e0ab0939-499c-417f-99ce-66913a7cdb22"
      },
      "id": "R7cBJJOs9-wW",
      "execution_count": 2,
      "outputs": [
        {
          "output_type": "execute_result",
          "data": {
            "text/plain": [
              "'3.0.0.rc4'"
            ],
            "application/vnd.google.colaboratory.intrinsic+json": {
              "type": "string"
            }
          },
          "metadata": {},
          "execution_count": 2
        }
      ]
    },
    {
      "cell_type": "code",
      "execution_count": 3,
      "id": "fccc658d",
      "metadata": {
        "_cell_guid": "b1076dfc-b9ad-4769-8c92-a6c4dae69d19",
        "_uuid": "8f2839f25d086af736a60e9eeb907d3b93b6e0e5",
        "execution": {
          "iopub.execute_input": "2021-12-09T23:45:14.376522Z",
          "iopub.status.busy": "2021-12-09T23:45:14.374788Z",
          "iopub.status.idle": "2021-12-09T23:45:15.293816Z",
          "shell.execute_reply": "2021-12-09T23:45:15.292612Z",
          "shell.execute_reply.started": "2021-12-09T23:35:43.734746Z"
        },
        "papermill": {
          "duration": 0.961655,
          "end_time": "2021-12-09T23:45:15.294041",
          "exception": false,
          "start_time": "2021-12-09T23:45:14.332386",
          "status": "completed"
        },
        "tags": [],
        "id": "fccc658d"
      },
      "outputs": [],
      "source": [
        "# This Python 3 environment comes with many helpful analytics libraries installed\n",
        "# It is defined by the kaggle/python Docker image: https://github.com/kaggle/docker-python\n",
        "# For example, here's several helpful packages to load\n",
        "\n",
        "#Libraries for Data Manipulation\n",
        "import numpy as np # linear algebra\n",
        "import pandas as pd # data processing, CSV file I/O (e.g. pd.read_csv)\n",
        "import datetime as dt #For datetime\n",
        "\n",
        "#Libraries for Data Visualization\n",
        "import matplotlib.pyplot as plt\n",
        "import seaborn as sns\n",
        "import os\n",
        "%matplotlib inline\n",
        "\n",
        "# Input data files are available in the read-only \"../input/\" directory\n",
        "# For example, running this (by clicking run or pressing Shift+Enter) will list all files under the input directory\n"
      ]
    },
    {
      "cell_type": "code",
      "source": [
        "!wget https://huggingface.co/datasets/tofighi/bitcoin/resolve/main/bitcoin_2012_2021.zip -O bitcoin_2012_2021.zip \n",
        "!unzip bitcoin_2012_2021.zip && rm bitcoin_2012_2021.zip"
      ],
      "metadata": {
        "colab": {
          "base_uri": "https://localhost:8080/"
        },
        "id": "DNAqMY8SuzC1",
        "outputId": "a41f9214-d1ff-4b12-cd60-789d2c41e50e"
      },
      "id": "DNAqMY8SuzC1",
      "execution_count": 4,
      "outputs": [
        {
          "output_type": "stream",
          "name": "stdout",
          "text": [
            "--2022-11-16 20:40:42--  https://huggingface.co/datasets/tofighi/bitcoin/resolve/main/bitcoin_2012_2021.zip\n",
            "Resolving huggingface.co (huggingface.co)... 34.200.207.32, 34.227.196.80, 2600:1f18:147f:e850:c00b:f3d9:24fb:fa94, ...\n",
            "Connecting to huggingface.co (huggingface.co)|34.200.207.32|:443... connected.\n",
            "HTTP request sent, awaiting response... 302 Found\n",
            "Location: https://cdn-lfs.huggingface.co/repos/ca/7d/ca7d7a5981d3092bc4b28472c8bb9aa432550f819248f41f0626e507a04f330f/706d1035a40a470f6e6a1d59381054929bd8574b16e44342774f7f3ec6de0c2a?response-content-disposition=attachment%3B%20filename%3D%22bitcoin_2012_2021.zip%22&Expires=1668890442&Policy=eyJTdGF0ZW1lbnQiOlt7IlJlc291cmNlIjoiaHR0cHM6Ly9jZG4tbGZzLmh1Z2dpbmdmYWNlLmNvL3JlcG9zL2NhLzdkL2NhN2Q3YTU5ODFkMzA5MmJjNGIyODQ3MmM4YmI5YWE0MzI1NTBmODE5MjQ4ZjQxZjA2MjZlNTA3YTA0ZjMzMGYvNzA2ZDEwMzVhNDBhNDcwZjZlNmExZDU5MzgxMDU0OTI5YmQ4NTc0YjE2ZTQ0MzQyNzc0ZjdmM2VjNmRlMGMyYT9yZXNwb25zZS1jb250ZW50LWRpc3Bvc2l0aW9uPWF0dGFjaG1lbnQlM0IlMjBmaWxlbmFtZSUzRCUyMmJpdGNvaW5fMjAxMl8yMDIxLnppcCUyMiIsIkNvbmRpdGlvbiI6eyJEYXRlTGVzc1RoYW4iOnsiQVdTOkVwb2NoVGltZSI6MTY2ODg5MDQ0Mn19fV19&Signature=qXfIG8wjZUr3Rq8YnAbI8HhjIHZbcJ0ZA-2VFKUmsbLImxdwIc8hLTFgGY8iIG2-8tbcngmjLDHk7BEmlFxoYltzmzcFZON6RKaiBZ752wWKjDv3hkuV4Qx9HmGsiZjseNj6619-ifArgL0m2rzz8uW3RfjIHTsYZrfZUPtV1M57LloCn1SpkicjQdkZ1Ntjybe2cAtCtWbRiwRVvhkofnkAiEX6R8DslZODK7wIbdcQC2GOXrseI9WiR8b8HL9oVrKHWeihGoHF-Lb8fQb0LkTSN81o9Tlhpr~6qykk9nPSnFfmz5OEKbDH71JGaMQuZXBZmyRVmq1DjGcCp88xGw__&Key-Pair-Id=KVTP0A1DKRTAX [following]\n",
            "--2022-11-16 20:40:42--  https://cdn-lfs.huggingface.co/repos/ca/7d/ca7d7a5981d3092bc4b28472c8bb9aa432550f819248f41f0626e507a04f330f/706d1035a40a470f6e6a1d59381054929bd8574b16e44342774f7f3ec6de0c2a?response-content-disposition=attachment%3B%20filename%3D%22bitcoin_2012_2021.zip%22&Expires=1668890442&Policy=eyJTdGF0ZW1lbnQiOlt7IlJlc291cmNlIjoiaHR0cHM6Ly9jZG4tbGZzLmh1Z2dpbmdmYWNlLmNvL3JlcG9zL2NhLzdkL2NhN2Q3YTU5ODFkMzA5MmJjNGIyODQ3MmM4YmI5YWE0MzI1NTBmODE5MjQ4ZjQxZjA2MjZlNTA3YTA0ZjMzMGYvNzA2ZDEwMzVhNDBhNDcwZjZlNmExZDU5MzgxMDU0OTI5YmQ4NTc0YjE2ZTQ0MzQyNzc0ZjdmM2VjNmRlMGMyYT9yZXNwb25zZS1jb250ZW50LWRpc3Bvc2l0aW9uPWF0dGFjaG1lbnQlM0IlMjBmaWxlbmFtZSUzRCUyMmJpdGNvaW5fMjAxMl8yMDIxLnppcCUyMiIsIkNvbmRpdGlvbiI6eyJEYXRlTGVzc1RoYW4iOnsiQVdTOkVwb2NoVGltZSI6MTY2ODg5MDQ0Mn19fV19&Signature=qXfIG8wjZUr3Rq8YnAbI8HhjIHZbcJ0ZA-2VFKUmsbLImxdwIc8hLTFgGY8iIG2-8tbcngmjLDHk7BEmlFxoYltzmzcFZON6RKaiBZ752wWKjDv3hkuV4Qx9HmGsiZjseNj6619-ifArgL0m2rzz8uW3RfjIHTsYZrfZUPtV1M57LloCn1SpkicjQdkZ1Ntjybe2cAtCtWbRiwRVvhkofnkAiEX6R8DslZODK7wIbdcQC2GOXrseI9WiR8b8HL9oVrKHWeihGoHF-Lb8fQb0LkTSN81o9Tlhpr~6qykk9nPSnFfmz5OEKbDH71JGaMQuZXBZmyRVmq1DjGcCp88xGw__&Key-Pair-Id=KVTP0A1DKRTAX\n",
            "Resolving cdn-lfs.huggingface.co (cdn-lfs.huggingface.co)... 18.64.174.106, 18.64.174.43, 18.64.174.109, ...\n",
            "Connecting to cdn-lfs.huggingface.co (cdn-lfs.huggingface.co)|18.64.174.106|:443... connected.\n",
            "HTTP request sent, awaiting response... 200 OK\n",
            "Length: 105242372 (100M) [application/zip]\n",
            "Saving to: ‘bitcoin_2012_2021.zip’\n",
            "\n",
            "bitcoin_2012_2021.z 100%[===================>] 100.37M   130MB/s    in 0.8s    \n",
            "\n",
            "2022-11-16 20:40:43 (130 MB/s) - ‘bitcoin_2012_2021.zip’ saved [105242372/105242372]\n",
            "\n",
            "Archive:  bitcoin_2012_2021.zip\n",
            "  inflating: bitstampUSD_1-min_data_2012-01-01_to_2021-03-31.csv  \n"
          ]
        }
      ]
    },
    {
      "cell_type": "markdown",
      "id": "729399a6",
      "metadata": {
        "papermill": {
          "duration": 0.037416,
          "end_time": "2021-12-09T23:45:15.370387",
          "exception": false,
          "start_time": "2021-12-09T23:45:15.332971",
          "status": "completed"
        },
        "tags": [],
        "id": "729399a6"
      },
      "source": [
        "**Importing Dataset**"
      ]
    },
    {
      "cell_type": "code",
      "execution_count": 5,
      "id": "e46c3613",
      "metadata": {
        "execution": {
          "iopub.execute_input": "2021-12-09T23:45:15.448935Z",
          "iopub.status.busy": "2021-12-09T23:45:15.448007Z",
          "iopub.status.idle": "2021-12-09T23:46:07.885650Z",
          "shell.execute_reply": "2021-12-09T23:46:07.886161Z",
          "shell.execute_reply.started": "2021-12-09T23:35:44.866200Z"
        },
        "papermill": {
          "duration": 52.478759,
          "end_time": "2021-12-09T23:46:07.886393",
          "exception": false,
          "start_time": "2021-12-09T23:45:15.407634",
          "status": "completed"
        },
        "tags": [],
        "colab": {
          "base_uri": "https://localhost:8080/",
          "height": 363
        },
        "id": "e46c3613",
        "outputId": "df542972-ba47-424e-becb-1da8ce2eb637"
      },
      "outputs": [
        {
          "output_type": "execute_result",
          "data": {
            "text/plain": [
              "    Timestamp  Open  High   Low  Close  Volume_(BTC)  Volume_(Currency)  \\\n",
              "0  1325317920  4.39  4.39  4.39   4.39      0.455581                2.0   \n",
              "1  1325317980   NaN   NaN   NaN    NaN           NaN                NaN   \n",
              "2  1325318040   NaN   NaN   NaN    NaN           NaN                NaN   \n",
              "3  1325318100   NaN   NaN   NaN    NaN           NaN                NaN   \n",
              "4  1325318160   NaN   NaN   NaN    NaN           NaN                NaN   \n",
              "5  1325318220   NaN   NaN   NaN    NaN           NaN                NaN   \n",
              "6  1325318280   NaN   NaN   NaN    NaN           NaN                NaN   \n",
              "7  1325318340   NaN   NaN   NaN    NaN           NaN                NaN   \n",
              "8  1325318400   NaN   NaN   NaN    NaN           NaN                NaN   \n",
              "9  1325318460   NaN   NaN   NaN    NaN           NaN                NaN   \n",
              "\n",
              "   Weighted_Price  \n",
              "0            4.39  \n",
              "1             NaN  \n",
              "2             NaN  \n",
              "3             NaN  \n",
              "4             NaN  \n",
              "5             NaN  \n",
              "6             NaN  \n",
              "7             NaN  \n",
              "8             NaN  \n",
              "9             NaN  "
            ],
            "text/html": [
              "\n",
              "  <div id=\"df-f20a0363-2bf1-409d-82a2-2162c7330d5d\">\n",
              "    <div class=\"colab-df-container\">\n",
              "      <div>\n",
              "<style scoped>\n",
              "    .dataframe tbody tr th:only-of-type {\n",
              "        vertical-align: middle;\n",
              "    }\n",
              "\n",
              "    .dataframe tbody tr th {\n",
              "        vertical-align: top;\n",
              "    }\n",
              "\n",
              "    .dataframe thead th {\n",
              "        text-align: right;\n",
              "    }\n",
              "</style>\n",
              "<table border=\"1\" class=\"dataframe\">\n",
              "  <thead>\n",
              "    <tr style=\"text-align: right;\">\n",
              "      <th></th>\n",
              "      <th>Timestamp</th>\n",
              "      <th>Open</th>\n",
              "      <th>High</th>\n",
              "      <th>Low</th>\n",
              "      <th>Close</th>\n",
              "      <th>Volume_(BTC)</th>\n",
              "      <th>Volume_(Currency)</th>\n",
              "      <th>Weighted_Price</th>\n",
              "    </tr>\n",
              "  </thead>\n",
              "  <tbody>\n",
              "    <tr>\n",
              "      <th>0</th>\n",
              "      <td>1325317920</td>\n",
              "      <td>4.39</td>\n",
              "      <td>4.39</td>\n",
              "      <td>4.39</td>\n",
              "      <td>4.39</td>\n",
              "      <td>0.455581</td>\n",
              "      <td>2.0</td>\n",
              "      <td>4.39</td>\n",
              "    </tr>\n",
              "    <tr>\n",
              "      <th>1</th>\n",
              "      <td>1325317980</td>\n",
              "      <td>NaN</td>\n",
              "      <td>NaN</td>\n",
              "      <td>NaN</td>\n",
              "      <td>NaN</td>\n",
              "      <td>NaN</td>\n",
              "      <td>NaN</td>\n",
              "      <td>NaN</td>\n",
              "    </tr>\n",
              "    <tr>\n",
              "      <th>2</th>\n",
              "      <td>1325318040</td>\n",
              "      <td>NaN</td>\n",
              "      <td>NaN</td>\n",
              "      <td>NaN</td>\n",
              "      <td>NaN</td>\n",
              "      <td>NaN</td>\n",
              "      <td>NaN</td>\n",
              "      <td>NaN</td>\n",
              "    </tr>\n",
              "    <tr>\n",
              "      <th>3</th>\n",
              "      <td>1325318100</td>\n",
              "      <td>NaN</td>\n",
              "      <td>NaN</td>\n",
              "      <td>NaN</td>\n",
              "      <td>NaN</td>\n",
              "      <td>NaN</td>\n",
              "      <td>NaN</td>\n",
              "      <td>NaN</td>\n",
              "    </tr>\n",
              "    <tr>\n",
              "      <th>4</th>\n",
              "      <td>1325318160</td>\n",
              "      <td>NaN</td>\n",
              "      <td>NaN</td>\n",
              "      <td>NaN</td>\n",
              "      <td>NaN</td>\n",
              "      <td>NaN</td>\n",
              "      <td>NaN</td>\n",
              "      <td>NaN</td>\n",
              "    </tr>\n",
              "    <tr>\n",
              "      <th>5</th>\n",
              "      <td>1325318220</td>\n",
              "      <td>NaN</td>\n",
              "      <td>NaN</td>\n",
              "      <td>NaN</td>\n",
              "      <td>NaN</td>\n",
              "      <td>NaN</td>\n",
              "      <td>NaN</td>\n",
              "      <td>NaN</td>\n",
              "    </tr>\n",
              "    <tr>\n",
              "      <th>6</th>\n",
              "      <td>1325318280</td>\n",
              "      <td>NaN</td>\n",
              "      <td>NaN</td>\n",
              "      <td>NaN</td>\n",
              "      <td>NaN</td>\n",
              "      <td>NaN</td>\n",
              "      <td>NaN</td>\n",
              "      <td>NaN</td>\n",
              "    </tr>\n",
              "    <tr>\n",
              "      <th>7</th>\n",
              "      <td>1325318340</td>\n",
              "      <td>NaN</td>\n",
              "      <td>NaN</td>\n",
              "      <td>NaN</td>\n",
              "      <td>NaN</td>\n",
              "      <td>NaN</td>\n",
              "      <td>NaN</td>\n",
              "      <td>NaN</td>\n",
              "    </tr>\n",
              "    <tr>\n",
              "      <th>8</th>\n",
              "      <td>1325318400</td>\n",
              "      <td>NaN</td>\n",
              "      <td>NaN</td>\n",
              "      <td>NaN</td>\n",
              "      <td>NaN</td>\n",
              "      <td>NaN</td>\n",
              "      <td>NaN</td>\n",
              "      <td>NaN</td>\n",
              "    </tr>\n",
              "    <tr>\n",
              "      <th>9</th>\n",
              "      <td>1325318460</td>\n",
              "      <td>NaN</td>\n",
              "      <td>NaN</td>\n",
              "      <td>NaN</td>\n",
              "      <td>NaN</td>\n",
              "      <td>NaN</td>\n",
              "      <td>NaN</td>\n",
              "      <td>NaN</td>\n",
              "    </tr>\n",
              "  </tbody>\n",
              "</table>\n",
              "</div>\n",
              "      <button class=\"colab-df-convert\" onclick=\"convertToInteractive('df-f20a0363-2bf1-409d-82a2-2162c7330d5d')\"\n",
              "              title=\"Convert this dataframe to an interactive table.\"\n",
              "              style=\"display:none;\">\n",
              "        \n",
              "  <svg xmlns=\"http://www.w3.org/2000/svg\" height=\"24px\"viewBox=\"0 0 24 24\"\n",
              "       width=\"24px\">\n",
              "    <path d=\"M0 0h24v24H0V0z\" fill=\"none\"/>\n",
              "    <path d=\"M18.56 5.44l.94 2.06.94-2.06 2.06-.94-2.06-.94-.94-2.06-.94 2.06-2.06.94zm-11 1L8.5 8.5l.94-2.06 2.06-.94-2.06-.94L8.5 2.5l-.94 2.06-2.06.94zm10 10l.94 2.06.94-2.06 2.06-.94-2.06-.94-.94-2.06-.94 2.06-2.06.94z\"/><path d=\"M17.41 7.96l-1.37-1.37c-.4-.4-.92-.59-1.43-.59-.52 0-1.04.2-1.43.59L10.3 9.45l-7.72 7.72c-.78.78-.78 2.05 0 2.83L4 21.41c.39.39.9.59 1.41.59.51 0 1.02-.2 1.41-.59l7.78-7.78 2.81-2.81c.8-.78.8-2.07 0-2.86zM5.41 20L4 18.59l7.72-7.72 1.47 1.35L5.41 20z\"/>\n",
              "  </svg>\n",
              "      </button>\n",
              "      \n",
              "  <style>\n",
              "    .colab-df-container {\n",
              "      display:flex;\n",
              "      flex-wrap:wrap;\n",
              "      gap: 12px;\n",
              "    }\n",
              "\n",
              "    .colab-df-convert {\n",
              "      background-color: #E8F0FE;\n",
              "      border: none;\n",
              "      border-radius: 50%;\n",
              "      cursor: pointer;\n",
              "      display: none;\n",
              "      fill: #1967D2;\n",
              "      height: 32px;\n",
              "      padding: 0 0 0 0;\n",
              "      width: 32px;\n",
              "    }\n",
              "\n",
              "    .colab-df-convert:hover {\n",
              "      background-color: #E2EBFA;\n",
              "      box-shadow: 0px 1px 2px rgba(60, 64, 67, 0.3), 0px 1px 3px 1px rgba(60, 64, 67, 0.15);\n",
              "      fill: #174EA6;\n",
              "    }\n",
              "\n",
              "    [theme=dark] .colab-df-convert {\n",
              "      background-color: #3B4455;\n",
              "      fill: #D2E3FC;\n",
              "    }\n",
              "\n",
              "    [theme=dark] .colab-df-convert:hover {\n",
              "      background-color: #434B5C;\n",
              "      box-shadow: 0px 1px 3px 1px rgba(0, 0, 0, 0.15);\n",
              "      filter: drop-shadow(0px 1px 2px rgba(0, 0, 0, 0.3));\n",
              "      fill: #FFFFFF;\n",
              "    }\n",
              "  </style>\n",
              "\n",
              "      <script>\n",
              "        const buttonEl =\n",
              "          document.querySelector('#df-f20a0363-2bf1-409d-82a2-2162c7330d5d button.colab-df-convert');\n",
              "        buttonEl.style.display =\n",
              "          google.colab.kernel.accessAllowed ? 'block' : 'none';\n",
              "\n",
              "        async function convertToInteractive(key) {\n",
              "          const element = document.querySelector('#df-f20a0363-2bf1-409d-82a2-2162c7330d5d');\n",
              "          const dataTable =\n",
              "            await google.colab.kernel.invokeFunction('convertToInteractive',\n",
              "                                                     [key], {});\n",
              "          if (!dataTable) return;\n",
              "\n",
              "          const docLinkHtml = 'Like what you see? Visit the ' +\n",
              "            '<a target=\"_blank\" href=https://colab.research.google.com/notebooks/data_table.ipynb>data table notebook</a>'\n",
              "            + ' to learn more about interactive tables.';\n",
              "          element.innerHTML = '';\n",
              "          dataTable['output_type'] = 'display_data';\n",
              "          await google.colab.output.renderOutput(dataTable, element);\n",
              "          const docLink = document.createElement('div');\n",
              "          docLink.innerHTML = docLinkHtml;\n",
              "          element.appendChild(docLink);\n",
              "        }\n",
              "      </script>\n",
              "    </div>\n",
              "  </div>\n",
              "  "
            ]
          },
          "metadata": {},
          "execution_count": 5
        }
      ],
      "source": [
        "#Importing Dataset \n",
        "bitcoin=pd.read_csv(\"bitstampUSD_1-min_data_2012-01-01_to_2021-03-31.csv\")\n",
        "bitcoin.head(10)"
      ]
    },
    {
      "cell_type": "markdown",
      "id": "6ac34a5b",
      "metadata": {
        "papermill": {
          "duration": 0.039143,
          "end_time": "2021-12-09T23:46:08.852526",
          "exception": false,
          "start_time": "2021-12-09T23:46:08.813383",
          "status": "completed"
        },
        "tags": [],
        "id": "6ac34a5b"
      },
      "source": [
        "**Checking for Null Values**"
      ]
    },
    {
      "cell_type": "code",
      "execution_count": 6,
      "id": "29404c86",
      "metadata": {
        "execution": {
          "iopub.execute_input": "2021-12-09T23:46:08.935421Z",
          "iopub.status.busy": "2021-12-09T23:46:08.934748Z",
          "iopub.status.idle": "2021-12-09T23:46:08.986299Z",
          "shell.execute_reply": "2021-12-09T23:46:08.986764Z",
          "shell.execute_reply.started": "2021-12-09T23:36:47.398530Z"
        },
        "papermill": {
          "duration": 0.095238,
          "end_time": "2021-12-09T23:46:08.986930",
          "exception": false,
          "start_time": "2021-12-09T23:46:08.891692",
          "status": "completed"
        },
        "tags": [],
        "colab": {
          "base_uri": "https://localhost:8080/"
        },
        "id": "29404c86",
        "outputId": "ea9e0522-5afb-49d8-e0f8-da5931a47894"
      },
      "outputs": [
        {
          "output_type": "execute_result",
          "data": {
            "text/plain": [
              "Timestamp                  0\n",
              "Open                 1243608\n",
              "High                 1243608\n",
              "Low                  1243608\n",
              "Close                1243608\n",
              "Volume_(BTC)         1243608\n",
              "Volume_(Currency)    1243608\n",
              "Weighted_Price       1243608\n",
              "dtype: int64"
            ]
          },
          "metadata": {},
          "execution_count": 6
        }
      ],
      "source": [
        "#Checking columns with missing data\n",
        "bitcoin.isnull().sum()"
      ]
    },
    {
      "cell_type": "code",
      "source": [
        "len(bitcoin)"
      ],
      "metadata": {
        "colab": {
          "base_uri": "https://localhost:8080/"
        },
        "id": "ImyjiRB_DRRe",
        "outputId": "b75a3b2d-f392-4062-ba0e-c5354dcdc2c7"
      },
      "id": "ImyjiRB_DRRe",
      "execution_count": 7,
      "outputs": [
        {
          "output_type": "execute_result",
          "data": {
            "text/plain": [
              "4857377"
            ]
          },
          "metadata": {},
          "execution_count": 7
        }
      ]
    },
    {
      "cell_type": "markdown",
      "id": "40a90863",
      "metadata": {
        "papermill": {
          "duration": 0.039394,
          "end_time": "2021-12-09T23:46:09.065640",
          "exception": false,
          "start_time": "2021-12-09T23:46:09.026246",
          "status": "completed"
        },
        "tags": [],
        "id": "40a90863"
      },
      "source": [
        "**Dropping Null Values**"
      ]
    },
    {
      "cell_type": "code",
      "execution_count": 8,
      "id": "aa4c3066",
      "metadata": {
        "execution": {
          "iopub.execute_input": "2021-12-09T23:46:09.148781Z",
          "iopub.status.busy": "2021-12-09T23:46:09.148051Z",
          "iopub.status.idle": "2021-12-09T23:46:09.441413Z",
          "shell.execute_reply": "2021-12-09T23:46:09.440362Z",
          "shell.execute_reply.started": "2021-12-09T23:36:47.446358Z"
        },
        "papermill": {
          "duration": 0.336588,
          "end_time": "2021-12-09T23:46:09.441575",
          "exception": false,
          "start_time": "2021-12-09T23:46:09.104987",
          "status": "completed"
        },
        "tags": [],
        "colab": {
          "base_uri": "https://localhost:8080/",
          "height": 363
        },
        "id": "aa4c3066",
        "outputId": "ca1c5ca9-2656-4cf8-d81e-21aa9480340b"
      },
      "outputs": [
        {
          "output_type": "execute_result",
          "data": {
            "text/plain": [
              "       Timestamp  Open  High   Low  Close  Volume_(BTC)  Volume_(Currency)  \\\n",
              "0     1325317920  4.39  4.39  4.39   4.39      0.455581           2.000000   \n",
              "478   1325346600  4.39  4.39  4.39   4.39     48.000000         210.720000   \n",
              "547   1325350740  4.50  4.57  4.50   4.57     37.862297         171.380338   \n",
              "548   1325350800  4.58  4.58  4.58   4.58      9.000000          41.220000   \n",
              "1224  1325391360  4.58  4.58  4.58   4.58      1.502000           6.879160   \n",
              "1896  1325431680  4.84  4.84  4.84   4.84     10.000000          48.400000   \n",
              "2333  1325457900  5.00  5.00  5.00   5.00     10.100000          50.500000   \n",
              "3612  1325534640  5.00  5.00  5.00   5.00     19.048000          95.240000   \n",
              "4553  1325591100  5.32  5.32  5.32   5.32      2.419173          12.870000   \n",
              "4710  1325600520  5.14  5.14  5.14   5.14      0.680000           3.495200   \n",
              "\n",
              "      Weighted_Price  \n",
              "0           4.390000  \n",
              "478         4.390000  \n",
              "547         4.526411  \n",
              "548         4.580000  \n",
              "1224        4.580000  \n",
              "1896        4.840000  \n",
              "2333        5.000000  \n",
              "3612        5.000000  \n",
              "4553        5.320000  \n",
              "4710        5.140000  "
            ],
            "text/html": [
              "\n",
              "  <div id=\"df-d575bac7-80b6-42d0-90a4-933f057f65c5\">\n",
              "    <div class=\"colab-df-container\">\n",
              "      <div>\n",
              "<style scoped>\n",
              "    .dataframe tbody tr th:only-of-type {\n",
              "        vertical-align: middle;\n",
              "    }\n",
              "\n",
              "    .dataframe tbody tr th {\n",
              "        vertical-align: top;\n",
              "    }\n",
              "\n",
              "    .dataframe thead th {\n",
              "        text-align: right;\n",
              "    }\n",
              "</style>\n",
              "<table border=\"1\" class=\"dataframe\">\n",
              "  <thead>\n",
              "    <tr style=\"text-align: right;\">\n",
              "      <th></th>\n",
              "      <th>Timestamp</th>\n",
              "      <th>Open</th>\n",
              "      <th>High</th>\n",
              "      <th>Low</th>\n",
              "      <th>Close</th>\n",
              "      <th>Volume_(BTC)</th>\n",
              "      <th>Volume_(Currency)</th>\n",
              "      <th>Weighted_Price</th>\n",
              "    </tr>\n",
              "  </thead>\n",
              "  <tbody>\n",
              "    <tr>\n",
              "      <th>0</th>\n",
              "      <td>1325317920</td>\n",
              "      <td>4.39</td>\n",
              "      <td>4.39</td>\n",
              "      <td>4.39</td>\n",
              "      <td>4.39</td>\n",
              "      <td>0.455581</td>\n",
              "      <td>2.000000</td>\n",
              "      <td>4.390000</td>\n",
              "    </tr>\n",
              "    <tr>\n",
              "      <th>478</th>\n",
              "      <td>1325346600</td>\n",
              "      <td>4.39</td>\n",
              "      <td>4.39</td>\n",
              "      <td>4.39</td>\n",
              "      <td>4.39</td>\n",
              "      <td>48.000000</td>\n",
              "      <td>210.720000</td>\n",
              "      <td>4.390000</td>\n",
              "    </tr>\n",
              "    <tr>\n",
              "      <th>547</th>\n",
              "      <td>1325350740</td>\n",
              "      <td>4.50</td>\n",
              "      <td>4.57</td>\n",
              "      <td>4.50</td>\n",
              "      <td>4.57</td>\n",
              "      <td>37.862297</td>\n",
              "      <td>171.380338</td>\n",
              "      <td>4.526411</td>\n",
              "    </tr>\n",
              "    <tr>\n",
              "      <th>548</th>\n",
              "      <td>1325350800</td>\n",
              "      <td>4.58</td>\n",
              "      <td>4.58</td>\n",
              "      <td>4.58</td>\n",
              "      <td>4.58</td>\n",
              "      <td>9.000000</td>\n",
              "      <td>41.220000</td>\n",
              "      <td>4.580000</td>\n",
              "    </tr>\n",
              "    <tr>\n",
              "      <th>1224</th>\n",
              "      <td>1325391360</td>\n",
              "      <td>4.58</td>\n",
              "      <td>4.58</td>\n",
              "      <td>4.58</td>\n",
              "      <td>4.58</td>\n",
              "      <td>1.502000</td>\n",
              "      <td>6.879160</td>\n",
              "      <td>4.580000</td>\n",
              "    </tr>\n",
              "    <tr>\n",
              "      <th>1896</th>\n",
              "      <td>1325431680</td>\n",
              "      <td>4.84</td>\n",
              "      <td>4.84</td>\n",
              "      <td>4.84</td>\n",
              "      <td>4.84</td>\n",
              "      <td>10.000000</td>\n",
              "      <td>48.400000</td>\n",
              "      <td>4.840000</td>\n",
              "    </tr>\n",
              "    <tr>\n",
              "      <th>2333</th>\n",
              "      <td>1325457900</td>\n",
              "      <td>5.00</td>\n",
              "      <td>5.00</td>\n",
              "      <td>5.00</td>\n",
              "      <td>5.00</td>\n",
              "      <td>10.100000</td>\n",
              "      <td>50.500000</td>\n",
              "      <td>5.000000</td>\n",
              "    </tr>\n",
              "    <tr>\n",
              "      <th>3612</th>\n",
              "      <td>1325534640</td>\n",
              "      <td>5.00</td>\n",
              "      <td>5.00</td>\n",
              "      <td>5.00</td>\n",
              "      <td>5.00</td>\n",
              "      <td>19.048000</td>\n",
              "      <td>95.240000</td>\n",
              "      <td>5.000000</td>\n",
              "    </tr>\n",
              "    <tr>\n",
              "      <th>4553</th>\n",
              "      <td>1325591100</td>\n",
              "      <td>5.32</td>\n",
              "      <td>5.32</td>\n",
              "      <td>5.32</td>\n",
              "      <td>5.32</td>\n",
              "      <td>2.419173</td>\n",
              "      <td>12.870000</td>\n",
              "      <td>5.320000</td>\n",
              "    </tr>\n",
              "    <tr>\n",
              "      <th>4710</th>\n",
              "      <td>1325600520</td>\n",
              "      <td>5.14</td>\n",
              "      <td>5.14</td>\n",
              "      <td>5.14</td>\n",
              "      <td>5.14</td>\n",
              "      <td>0.680000</td>\n",
              "      <td>3.495200</td>\n",
              "      <td>5.140000</td>\n",
              "    </tr>\n",
              "  </tbody>\n",
              "</table>\n",
              "</div>\n",
              "      <button class=\"colab-df-convert\" onclick=\"convertToInteractive('df-d575bac7-80b6-42d0-90a4-933f057f65c5')\"\n",
              "              title=\"Convert this dataframe to an interactive table.\"\n",
              "              style=\"display:none;\">\n",
              "        \n",
              "  <svg xmlns=\"http://www.w3.org/2000/svg\" height=\"24px\"viewBox=\"0 0 24 24\"\n",
              "       width=\"24px\">\n",
              "    <path d=\"M0 0h24v24H0V0z\" fill=\"none\"/>\n",
              "    <path d=\"M18.56 5.44l.94 2.06.94-2.06 2.06-.94-2.06-.94-.94-2.06-.94 2.06-2.06.94zm-11 1L8.5 8.5l.94-2.06 2.06-.94-2.06-.94L8.5 2.5l-.94 2.06-2.06.94zm10 10l.94 2.06.94-2.06 2.06-.94-2.06-.94-.94-2.06-.94 2.06-2.06.94z\"/><path d=\"M17.41 7.96l-1.37-1.37c-.4-.4-.92-.59-1.43-.59-.52 0-1.04.2-1.43.59L10.3 9.45l-7.72 7.72c-.78.78-.78 2.05 0 2.83L4 21.41c.39.39.9.59 1.41.59.51 0 1.02-.2 1.41-.59l7.78-7.78 2.81-2.81c.8-.78.8-2.07 0-2.86zM5.41 20L4 18.59l7.72-7.72 1.47 1.35L5.41 20z\"/>\n",
              "  </svg>\n",
              "      </button>\n",
              "      \n",
              "  <style>\n",
              "    .colab-df-container {\n",
              "      display:flex;\n",
              "      flex-wrap:wrap;\n",
              "      gap: 12px;\n",
              "    }\n",
              "\n",
              "    .colab-df-convert {\n",
              "      background-color: #E8F0FE;\n",
              "      border: none;\n",
              "      border-radius: 50%;\n",
              "      cursor: pointer;\n",
              "      display: none;\n",
              "      fill: #1967D2;\n",
              "      height: 32px;\n",
              "      padding: 0 0 0 0;\n",
              "      width: 32px;\n",
              "    }\n",
              "\n",
              "    .colab-df-convert:hover {\n",
              "      background-color: #E2EBFA;\n",
              "      box-shadow: 0px 1px 2px rgba(60, 64, 67, 0.3), 0px 1px 3px 1px rgba(60, 64, 67, 0.15);\n",
              "      fill: #174EA6;\n",
              "    }\n",
              "\n",
              "    [theme=dark] .colab-df-convert {\n",
              "      background-color: #3B4455;\n",
              "      fill: #D2E3FC;\n",
              "    }\n",
              "\n",
              "    [theme=dark] .colab-df-convert:hover {\n",
              "      background-color: #434B5C;\n",
              "      box-shadow: 0px 1px 3px 1px rgba(0, 0, 0, 0.15);\n",
              "      filter: drop-shadow(0px 1px 2px rgba(0, 0, 0, 0.3));\n",
              "      fill: #FFFFFF;\n",
              "    }\n",
              "  </style>\n",
              "\n",
              "      <script>\n",
              "        const buttonEl =\n",
              "          document.querySelector('#df-d575bac7-80b6-42d0-90a4-933f057f65c5 button.colab-df-convert');\n",
              "        buttonEl.style.display =\n",
              "          google.colab.kernel.accessAllowed ? 'block' : 'none';\n",
              "\n",
              "        async function convertToInteractive(key) {\n",
              "          const element = document.querySelector('#df-d575bac7-80b6-42d0-90a4-933f057f65c5');\n",
              "          const dataTable =\n",
              "            await google.colab.kernel.invokeFunction('convertToInteractive',\n",
              "                                                     [key], {});\n",
              "          if (!dataTable) return;\n",
              "\n",
              "          const docLinkHtml = 'Like what you see? Visit the ' +\n",
              "            '<a target=\"_blank\" href=https://colab.research.google.com/notebooks/data_table.ipynb>data table notebook</a>'\n",
              "            + ' to learn more about interactive tables.';\n",
              "          element.innerHTML = '';\n",
              "          dataTable['output_type'] = 'display_data';\n",
              "          await google.colab.output.renderOutput(dataTable, element);\n",
              "          const docLink = document.createElement('div');\n",
              "          docLink.innerHTML = docLinkHtml;\n",
              "          element.appendChild(docLink);\n",
              "        }\n",
              "      </script>\n",
              "    </div>\n",
              "  </div>\n",
              "  "
            ]
          },
          "metadata": {},
          "execution_count": 8
        }
      ],
      "source": [
        "#Dropping Null Values and assest id as it is irrelevant\n",
        "bitcoin=bitcoin.dropna()\n",
        "#Cleaning NAN values for Close values\n",
        "bitcoin = bitcoin[bitcoin['Close'].notna()]\n",
        "bitcoin.head(10)"
      ]
    },
    {
      "cell_type": "code",
      "source": [
        "len(bitcoin)"
      ],
      "metadata": {
        "colab": {
          "base_uri": "https://localhost:8080/"
        },
        "id": "FI04GRlMDliB",
        "outputId": "99e8929e-749b-433d-d77b-9695a6917237"
      },
      "id": "FI04GRlMDliB",
      "execution_count": 9,
      "outputs": [
        {
          "output_type": "execute_result",
          "data": {
            "text/plain": [
              "3613769"
            ]
          },
          "metadata": {},
          "execution_count": 9
        }
      ]
    },
    {
      "cell_type": "markdown",
      "id": "7f267573",
      "metadata": {
        "papermill": {
          "duration": 0.038854,
          "end_time": "2021-12-09T23:46:09.519385",
          "exception": false,
          "start_time": "2021-12-09T23:46:09.480531",
          "status": "completed"
        },
        "tags": [],
        "id": "7f267573"
      },
      "source": [
        "**Changing Unix timestamp into Date and Time**"
      ]
    },
    {
      "cell_type": "code",
      "execution_count": 10,
      "id": "14829bc6",
      "metadata": {
        "execution": {
          "iopub.execute_input": "2021-12-09T23:46:09.605443Z",
          "iopub.status.busy": "2021-12-09T23:46:09.604812Z",
          "iopub.status.idle": "2021-12-09T23:46:09.665959Z",
          "shell.execute_reply": "2021-12-09T23:46:09.666488Z",
          "shell.execute_reply.started": "2021-12-09T23:36:47.646536Z"
        },
        "papermill": {
          "duration": 0.106656,
          "end_time": "2021-12-09T23:46:09.666668",
          "exception": false,
          "start_time": "2021-12-09T23:46:09.560012",
          "status": "completed"
        },
        "tags": [],
        "colab": {
          "base_uri": "https://localhost:8080/",
          "height": 250
        },
        "id": "14829bc6",
        "outputId": "65cd7a09-df86-4477-fce5-df8e276f8769"
      },
      "outputs": [
        {
          "output_type": "execute_result",
          "data": {
            "text/plain": [
              "               Timestamp  Open  High   Low  Close  Volume_(BTC)  \\\n",
              "0    2011-12-31 07:52:00  4.39  4.39  4.39   4.39      0.455581   \n",
              "478  2011-12-31 15:50:00  4.39  4.39  4.39   4.39     48.000000   \n",
              "547  2011-12-31 16:59:00  4.50  4.57  4.50   4.57     37.862297   \n",
              "548  2011-12-31 17:00:00  4.58  4.58  4.58   4.58      9.000000   \n",
              "1224 2012-01-01 04:16:00  4.58  4.58  4.58   4.58      1.502000   \n",
              "\n",
              "      Volume_(Currency)  Weighted_Price  \n",
              "0              2.000000        4.390000  \n",
              "478          210.720000        4.390000  \n",
              "547          171.380338        4.526411  \n",
              "548           41.220000        4.580000  \n",
              "1224           6.879160        4.580000  "
            ],
            "text/html": [
              "\n",
              "  <div id=\"df-f3a73d0d-74f3-4108-9357-00fee909fa99\">\n",
              "    <div class=\"colab-df-container\">\n",
              "      <div>\n",
              "<style scoped>\n",
              "    .dataframe tbody tr th:only-of-type {\n",
              "        vertical-align: middle;\n",
              "    }\n",
              "\n",
              "    .dataframe tbody tr th {\n",
              "        vertical-align: top;\n",
              "    }\n",
              "\n",
              "    .dataframe thead th {\n",
              "        text-align: right;\n",
              "    }\n",
              "</style>\n",
              "<table border=\"1\" class=\"dataframe\">\n",
              "  <thead>\n",
              "    <tr style=\"text-align: right;\">\n",
              "      <th></th>\n",
              "      <th>Timestamp</th>\n",
              "      <th>Open</th>\n",
              "      <th>High</th>\n",
              "      <th>Low</th>\n",
              "      <th>Close</th>\n",
              "      <th>Volume_(BTC)</th>\n",
              "      <th>Volume_(Currency)</th>\n",
              "      <th>Weighted_Price</th>\n",
              "    </tr>\n",
              "  </thead>\n",
              "  <tbody>\n",
              "    <tr>\n",
              "      <th>0</th>\n",
              "      <td>2011-12-31 07:52:00</td>\n",
              "      <td>4.39</td>\n",
              "      <td>4.39</td>\n",
              "      <td>4.39</td>\n",
              "      <td>4.39</td>\n",
              "      <td>0.455581</td>\n",
              "      <td>2.000000</td>\n",
              "      <td>4.390000</td>\n",
              "    </tr>\n",
              "    <tr>\n",
              "      <th>478</th>\n",
              "      <td>2011-12-31 15:50:00</td>\n",
              "      <td>4.39</td>\n",
              "      <td>4.39</td>\n",
              "      <td>4.39</td>\n",
              "      <td>4.39</td>\n",
              "      <td>48.000000</td>\n",
              "      <td>210.720000</td>\n",
              "      <td>4.390000</td>\n",
              "    </tr>\n",
              "    <tr>\n",
              "      <th>547</th>\n",
              "      <td>2011-12-31 16:59:00</td>\n",
              "      <td>4.50</td>\n",
              "      <td>4.57</td>\n",
              "      <td>4.50</td>\n",
              "      <td>4.57</td>\n",
              "      <td>37.862297</td>\n",
              "      <td>171.380338</td>\n",
              "      <td>4.526411</td>\n",
              "    </tr>\n",
              "    <tr>\n",
              "      <th>548</th>\n",
              "      <td>2011-12-31 17:00:00</td>\n",
              "      <td>4.58</td>\n",
              "      <td>4.58</td>\n",
              "      <td>4.58</td>\n",
              "      <td>4.58</td>\n",
              "      <td>9.000000</td>\n",
              "      <td>41.220000</td>\n",
              "      <td>4.580000</td>\n",
              "    </tr>\n",
              "    <tr>\n",
              "      <th>1224</th>\n",
              "      <td>2012-01-01 04:16:00</td>\n",
              "      <td>4.58</td>\n",
              "      <td>4.58</td>\n",
              "      <td>4.58</td>\n",
              "      <td>4.58</td>\n",
              "      <td>1.502000</td>\n",
              "      <td>6.879160</td>\n",
              "      <td>4.580000</td>\n",
              "    </tr>\n",
              "  </tbody>\n",
              "</table>\n",
              "</div>\n",
              "      <button class=\"colab-df-convert\" onclick=\"convertToInteractive('df-f3a73d0d-74f3-4108-9357-00fee909fa99')\"\n",
              "              title=\"Convert this dataframe to an interactive table.\"\n",
              "              style=\"display:none;\">\n",
              "        \n",
              "  <svg xmlns=\"http://www.w3.org/2000/svg\" height=\"24px\"viewBox=\"0 0 24 24\"\n",
              "       width=\"24px\">\n",
              "    <path d=\"M0 0h24v24H0V0z\" fill=\"none\"/>\n",
              "    <path d=\"M18.56 5.44l.94 2.06.94-2.06 2.06-.94-2.06-.94-.94-2.06-.94 2.06-2.06.94zm-11 1L8.5 8.5l.94-2.06 2.06-.94-2.06-.94L8.5 2.5l-.94 2.06-2.06.94zm10 10l.94 2.06.94-2.06 2.06-.94-2.06-.94-.94-2.06-.94 2.06-2.06.94z\"/><path d=\"M17.41 7.96l-1.37-1.37c-.4-.4-.92-.59-1.43-.59-.52 0-1.04.2-1.43.59L10.3 9.45l-7.72 7.72c-.78.78-.78 2.05 0 2.83L4 21.41c.39.39.9.59 1.41.59.51 0 1.02-.2 1.41-.59l7.78-7.78 2.81-2.81c.8-.78.8-2.07 0-2.86zM5.41 20L4 18.59l7.72-7.72 1.47 1.35L5.41 20z\"/>\n",
              "  </svg>\n",
              "      </button>\n",
              "      \n",
              "  <style>\n",
              "    .colab-df-container {\n",
              "      display:flex;\n",
              "      flex-wrap:wrap;\n",
              "      gap: 12px;\n",
              "    }\n",
              "\n",
              "    .colab-df-convert {\n",
              "      background-color: #E8F0FE;\n",
              "      border: none;\n",
              "      border-radius: 50%;\n",
              "      cursor: pointer;\n",
              "      display: none;\n",
              "      fill: #1967D2;\n",
              "      height: 32px;\n",
              "      padding: 0 0 0 0;\n",
              "      width: 32px;\n",
              "    }\n",
              "\n",
              "    .colab-df-convert:hover {\n",
              "      background-color: #E2EBFA;\n",
              "      box-shadow: 0px 1px 2px rgba(60, 64, 67, 0.3), 0px 1px 3px 1px rgba(60, 64, 67, 0.15);\n",
              "      fill: #174EA6;\n",
              "    }\n",
              "\n",
              "    [theme=dark] .colab-df-convert {\n",
              "      background-color: #3B4455;\n",
              "      fill: #D2E3FC;\n",
              "    }\n",
              "\n",
              "    [theme=dark] .colab-df-convert:hover {\n",
              "      background-color: #434B5C;\n",
              "      box-shadow: 0px 1px 3px 1px rgba(0, 0, 0, 0.15);\n",
              "      filter: drop-shadow(0px 1px 2px rgba(0, 0, 0, 0.3));\n",
              "      fill: #FFFFFF;\n",
              "    }\n",
              "  </style>\n",
              "\n",
              "      <script>\n",
              "        const buttonEl =\n",
              "          document.querySelector('#df-f3a73d0d-74f3-4108-9357-00fee909fa99 button.colab-df-convert');\n",
              "        buttonEl.style.display =\n",
              "          google.colab.kernel.accessAllowed ? 'block' : 'none';\n",
              "\n",
              "        async function convertToInteractive(key) {\n",
              "          const element = document.querySelector('#df-f3a73d0d-74f3-4108-9357-00fee909fa99');\n",
              "          const dataTable =\n",
              "            await google.colab.kernel.invokeFunction('convertToInteractive',\n",
              "                                                     [key], {});\n",
              "          if (!dataTable) return;\n",
              "\n",
              "          const docLinkHtml = 'Like what you see? Visit the ' +\n",
              "            '<a target=\"_blank\" href=https://colab.research.google.com/notebooks/data_table.ipynb>data table notebook</a>'\n",
              "            + ' to learn more about interactive tables.';\n",
              "          element.innerHTML = '';\n",
              "          dataTable['output_type'] = 'display_data';\n",
              "          await google.colab.output.renderOutput(dataTable, element);\n",
              "          const docLink = document.createElement('div');\n",
              "          docLink.innerHTML = docLinkHtml;\n",
              "          element.appendChild(docLink);\n",
              "        }\n",
              "      </script>\n",
              "    </div>\n",
              "  </div>\n",
              "  "
            ]
          },
          "metadata": {},
          "execution_count": 10
        }
      ],
      "source": [
        "#Changing timestamp into date\n",
        "bitcoin['Timestamp'] = pd.to_datetime(bitcoin['Timestamp'],unit='s')\n",
        "bitcoin.head()"
      ]
    },
    {
      "cell_type": "markdown",
      "id": "575095e9",
      "metadata": {
        "papermill": {
          "duration": 0.039101,
          "end_time": "2021-12-09T23:46:09.746313",
          "exception": false,
          "start_time": "2021-12-09T23:46:09.707212",
          "status": "completed"
        },
        "tags": [],
        "id": "575095e9"
      },
      "source": [
        "# Explanatory Data Analysis"
      ]
    },
    {
      "cell_type": "markdown",
      "id": "967aa6a0",
      "metadata": {
        "papermill": {
          "duration": 0.040293,
          "end_time": "2021-12-09T23:46:09.826059",
          "exception": false,
          "start_time": "2021-12-09T23:46:09.785766",
          "status": "completed"
        },
        "tags": [],
        "id": "967aa6a0"
      },
      "source": [
        "**Statistics of Bitcoin**"
      ]
    },
    {
      "cell_type": "code",
      "execution_count": 11,
      "id": "2d309ace",
      "metadata": {
        "execution": {
          "iopub.execute_input": "2021-12-09T23:46:09.909063Z",
          "iopub.status.busy": "2021-12-09T23:46:09.908427Z",
          "iopub.status.idle": "2021-12-09T23:46:10.470692Z",
          "shell.execute_reply": "2021-12-09T23:46:10.470104Z",
          "shell.execute_reply.started": "2021-12-09T23:36:47.697922Z"
        },
        "papermill": {
          "duration": 0.604221,
          "end_time": "2021-12-09T23:46:10.470834",
          "exception": false,
          "start_time": "2021-12-09T23:46:09.866613",
          "status": "completed"
        },
        "tags": [],
        "colab": {
          "base_uri": "https://localhost:8080/",
          "height": 333
        },
        "id": "2d309ace",
        "outputId": "4d1a67d7-c3bf-4a32-c764-7890e3a7c56e"
      },
      "outputs": [
        {
          "output_type": "execute_result",
          "data": {
            "text/plain": [
              "                       count          mean            std  min         25%  \\\n",
              "Open               3613769.0   6009.023680    8996.247351  3.8  443.860000   \n",
              "High               3613769.0   6013.357082    9003.521006  3.8  444.000000   \n",
              "Low                3613769.0   6004.488004    8988.778319  1.5  443.520000   \n",
              "Close              3613769.0   6009.013545    8996.359688  1.5  443.860000   \n",
              "Volume_(BTC)       3613769.0      9.323249      30.549891  0.0    0.409776   \n",
              "Volume_(Currency)  3613769.0  41762.842397  151824.783901  0.0  452.142195   \n",
              "Weighted_Price     3613769.0   6008.934800    8995.991643  3.8  443.830622   \n",
              "\n",
              "                           50%           75%           max  \n",
              "Open               3596.970000   8627.270000  6.176356e+04  \n",
              "High               3598.190000   8632.980000  6.178183e+04  \n",
              "Low                3595.620000   8621.090000  6.167355e+04  \n",
              "Close              3597.000000   8627.160000  6.178180e+04  \n",
              "Volume_(BTC)          1.979811      7.278216  5.853852e+03  \n",
              "Volume_(Currency)  3810.124143  25698.211176  1.390067e+07  \n",
              "Weighted_Price     3596.804145   8627.636614  6.171621e+04  "
            ],
            "text/html": [
              "\n",
              "  <div id=\"df-8ae7690b-df5e-4499-8710-c29ae0e59042\">\n",
              "    <div class=\"colab-df-container\">\n",
              "      <div>\n",
              "<style scoped>\n",
              "    .dataframe tbody tr th:only-of-type {\n",
              "        vertical-align: middle;\n",
              "    }\n",
              "\n",
              "    .dataframe tbody tr th {\n",
              "        vertical-align: top;\n",
              "    }\n",
              "\n",
              "    .dataframe thead th {\n",
              "        text-align: right;\n",
              "    }\n",
              "</style>\n",
              "<table border=\"1\" class=\"dataframe\">\n",
              "  <thead>\n",
              "    <tr style=\"text-align: right;\">\n",
              "      <th></th>\n",
              "      <th>count</th>\n",
              "      <th>mean</th>\n",
              "      <th>std</th>\n",
              "      <th>min</th>\n",
              "      <th>25%</th>\n",
              "      <th>50%</th>\n",
              "      <th>75%</th>\n",
              "      <th>max</th>\n",
              "    </tr>\n",
              "  </thead>\n",
              "  <tbody>\n",
              "    <tr>\n",
              "      <th>Open</th>\n",
              "      <td>3613769.0</td>\n",
              "      <td>6009.023680</td>\n",
              "      <td>8996.247351</td>\n",
              "      <td>3.8</td>\n",
              "      <td>443.860000</td>\n",
              "      <td>3596.970000</td>\n",
              "      <td>8627.270000</td>\n",
              "      <td>6.176356e+04</td>\n",
              "    </tr>\n",
              "    <tr>\n",
              "      <th>High</th>\n",
              "      <td>3613769.0</td>\n",
              "      <td>6013.357082</td>\n",
              "      <td>9003.521006</td>\n",
              "      <td>3.8</td>\n",
              "      <td>444.000000</td>\n",
              "      <td>3598.190000</td>\n",
              "      <td>8632.980000</td>\n",
              "      <td>6.178183e+04</td>\n",
              "    </tr>\n",
              "    <tr>\n",
              "      <th>Low</th>\n",
              "      <td>3613769.0</td>\n",
              "      <td>6004.488004</td>\n",
              "      <td>8988.778319</td>\n",
              "      <td>1.5</td>\n",
              "      <td>443.520000</td>\n",
              "      <td>3595.620000</td>\n",
              "      <td>8621.090000</td>\n",
              "      <td>6.167355e+04</td>\n",
              "    </tr>\n",
              "    <tr>\n",
              "      <th>Close</th>\n",
              "      <td>3613769.0</td>\n",
              "      <td>6009.013545</td>\n",
              "      <td>8996.359688</td>\n",
              "      <td>1.5</td>\n",
              "      <td>443.860000</td>\n",
              "      <td>3597.000000</td>\n",
              "      <td>8627.160000</td>\n",
              "      <td>6.178180e+04</td>\n",
              "    </tr>\n",
              "    <tr>\n",
              "      <th>Volume_(BTC)</th>\n",
              "      <td>3613769.0</td>\n",
              "      <td>9.323249</td>\n",
              "      <td>30.549891</td>\n",
              "      <td>0.0</td>\n",
              "      <td>0.409776</td>\n",
              "      <td>1.979811</td>\n",
              "      <td>7.278216</td>\n",
              "      <td>5.853852e+03</td>\n",
              "    </tr>\n",
              "    <tr>\n",
              "      <th>Volume_(Currency)</th>\n",
              "      <td>3613769.0</td>\n",
              "      <td>41762.842397</td>\n",
              "      <td>151824.783901</td>\n",
              "      <td>0.0</td>\n",
              "      <td>452.142195</td>\n",
              "      <td>3810.124143</td>\n",
              "      <td>25698.211176</td>\n",
              "      <td>1.390067e+07</td>\n",
              "    </tr>\n",
              "    <tr>\n",
              "      <th>Weighted_Price</th>\n",
              "      <td>3613769.0</td>\n",
              "      <td>6008.934800</td>\n",
              "      <td>8995.991643</td>\n",
              "      <td>3.8</td>\n",
              "      <td>443.830622</td>\n",
              "      <td>3596.804145</td>\n",
              "      <td>8627.636614</td>\n",
              "      <td>6.171621e+04</td>\n",
              "    </tr>\n",
              "  </tbody>\n",
              "</table>\n",
              "</div>\n",
              "      <button class=\"colab-df-convert\" onclick=\"convertToInteractive('df-8ae7690b-df5e-4499-8710-c29ae0e59042')\"\n",
              "              title=\"Convert this dataframe to an interactive table.\"\n",
              "              style=\"display:none;\">\n",
              "        \n",
              "  <svg xmlns=\"http://www.w3.org/2000/svg\" height=\"24px\"viewBox=\"0 0 24 24\"\n",
              "       width=\"24px\">\n",
              "    <path d=\"M0 0h24v24H0V0z\" fill=\"none\"/>\n",
              "    <path d=\"M18.56 5.44l.94 2.06.94-2.06 2.06-.94-2.06-.94-.94-2.06-.94 2.06-2.06.94zm-11 1L8.5 8.5l.94-2.06 2.06-.94-2.06-.94L8.5 2.5l-.94 2.06-2.06.94zm10 10l.94 2.06.94-2.06 2.06-.94-2.06-.94-.94-2.06-.94 2.06-2.06.94z\"/><path d=\"M17.41 7.96l-1.37-1.37c-.4-.4-.92-.59-1.43-.59-.52 0-1.04.2-1.43.59L10.3 9.45l-7.72 7.72c-.78.78-.78 2.05 0 2.83L4 21.41c.39.39.9.59 1.41.59.51 0 1.02-.2 1.41-.59l7.78-7.78 2.81-2.81c.8-.78.8-2.07 0-2.86zM5.41 20L4 18.59l7.72-7.72 1.47 1.35L5.41 20z\"/>\n",
              "  </svg>\n",
              "      </button>\n",
              "      \n",
              "  <style>\n",
              "    .colab-df-container {\n",
              "      display:flex;\n",
              "      flex-wrap:wrap;\n",
              "      gap: 12px;\n",
              "    }\n",
              "\n",
              "    .colab-df-convert {\n",
              "      background-color: #E8F0FE;\n",
              "      border: none;\n",
              "      border-radius: 50%;\n",
              "      cursor: pointer;\n",
              "      display: none;\n",
              "      fill: #1967D2;\n",
              "      height: 32px;\n",
              "      padding: 0 0 0 0;\n",
              "      width: 32px;\n",
              "    }\n",
              "\n",
              "    .colab-df-convert:hover {\n",
              "      background-color: #E2EBFA;\n",
              "      box-shadow: 0px 1px 2px rgba(60, 64, 67, 0.3), 0px 1px 3px 1px rgba(60, 64, 67, 0.15);\n",
              "      fill: #174EA6;\n",
              "    }\n",
              "\n",
              "    [theme=dark] .colab-df-convert {\n",
              "      background-color: #3B4455;\n",
              "      fill: #D2E3FC;\n",
              "    }\n",
              "\n",
              "    [theme=dark] .colab-df-convert:hover {\n",
              "      background-color: #434B5C;\n",
              "      box-shadow: 0px 1px 3px 1px rgba(0, 0, 0, 0.15);\n",
              "      filter: drop-shadow(0px 1px 2px rgba(0, 0, 0, 0.3));\n",
              "      fill: #FFFFFF;\n",
              "    }\n",
              "  </style>\n",
              "\n",
              "      <script>\n",
              "        const buttonEl =\n",
              "          document.querySelector('#df-8ae7690b-df5e-4499-8710-c29ae0e59042 button.colab-df-convert');\n",
              "        buttonEl.style.display =\n",
              "          google.colab.kernel.accessAllowed ? 'block' : 'none';\n",
              "\n",
              "        async function convertToInteractive(key) {\n",
              "          const element = document.querySelector('#df-8ae7690b-df5e-4499-8710-c29ae0e59042');\n",
              "          const dataTable =\n",
              "            await google.colab.kernel.invokeFunction('convertToInteractive',\n",
              "                                                     [key], {});\n",
              "          if (!dataTable) return;\n",
              "\n",
              "          const docLinkHtml = 'Like what you see? Visit the ' +\n",
              "            '<a target=\"_blank\" href=https://colab.research.google.com/notebooks/data_table.ipynb>data table notebook</a>'\n",
              "            + ' to learn more about interactive tables.';\n",
              "          element.innerHTML = '';\n",
              "          dataTable['output_type'] = 'display_data';\n",
              "          await google.colab.output.renderOutput(dataTable, element);\n",
              "          const docLink = document.createElement('div');\n",
              "          docLink.innerHTML = docLinkHtml;\n",
              "          element.appendChild(docLink);\n",
              "        }\n",
              "      </script>\n",
              "    </div>\n",
              "  </div>\n",
              "  "
            ]
          },
          "metadata": {},
          "execution_count": 11
        }
      ],
      "source": [
        "bitcoin.describe().T"
      ]
    },
    {
      "cell_type": "markdown",
      "id": "f9215725",
      "metadata": {
        "papermill": {
          "duration": 0.039807,
          "end_time": "2021-12-09T23:46:10.550631",
          "exception": false,
          "start_time": "2021-12-09T23:46:10.510824",
          "status": "completed"
        },
        "tags": [],
        "id": "f9215725"
      },
      "source": [
        "**Some Insights about Bitcoin**"
      ]
    },
    {
      "cell_type": "code",
      "execution_count": 12,
      "id": "0e9487aa",
      "metadata": {
        "execution": {
          "iopub.execute_input": "2021-12-09T23:46:10.634636Z",
          "iopub.status.busy": "2021-12-09T23:46:10.633991Z",
          "iopub.status.idle": "2021-12-09T23:46:11.146906Z",
          "shell.execute_reply": "2021-12-09T23:46:11.146342Z",
          "shell.execute_reply.started": "2021-12-09T23:36:48.174005Z"
        },
        "papermill": {
          "duration": 0.555659,
          "end_time": "2021-12-09T23:46:11.147036",
          "exception": false,
          "start_time": "2021-12-09T23:46:10.591377",
          "status": "completed"
        },
        "tags": [],
        "colab": {
          "base_uri": "https://localhost:8080/"
        },
        "id": "0e9487aa",
        "outputId": "a1bb0aa7-3db3-4eb4-ded5-c0432deaf58c"
      },
      "outputs": [
        {
          "output_type": "stream",
          "name": "stdout",
          "text": [
            "All Time High Price: 61781.83\n",
            "Highest Number of Bitcoin units traded during the minute: 5853.8521659\n"
          ]
        }
      ],
      "source": [
        "print(\"All Time High Price:\",max(bitcoin['High']))\n",
        "print(\"Highest Number of Bitcoin units traded during the minute:\",max(bitcoin['Volume_(BTC)']))"
      ]
    },
    {
      "cell_type": "markdown",
      "id": "f3ec9e88",
      "metadata": {
        "papermill": {
          "duration": 0.040233,
          "end_time": "2021-12-09T23:46:11.227672",
          "exception": false,
          "start_time": "2021-12-09T23:46:11.187439",
          "status": "completed"
        },
        "tags": [],
        "id": "f3ec9e88"
      },
      "source": [
        "**High as per Time**"
      ]
    },
    {
      "cell_type": "code",
      "source": [
        "!pip install matplotlib==3.1.3 -q"
      ],
      "metadata": {
        "colab": {
          "base_uri": "https://localhost:8080/"
        },
        "id": "daCU23y_6K2C",
        "outputId": "ab0a7434-581d-4263-c67a-7a6915d72b79"
      },
      "id": "daCU23y_6K2C",
      "execution_count": 13,
      "outputs": [
        {
          "output_type": "stream",
          "name": "stdout",
          "text": [
            "\u001b[K     |████████████████████████████████| 13.1 MB 2.1 MB/s \n",
            "\u001b[31mERROR: pip's dependency resolver does not currently take into account all the packages that are installed. This behaviour is the source of the following dependency conflicts.\n",
            "pycaret 3.0.0rc4 requires matplotlib>=3.3.0, but you have matplotlib 3.1.3 which is incompatible.\u001b[0m\n",
            "\u001b[?25h"
          ]
        }
      ]
    },
    {
      "cell_type": "code",
      "execution_count": 14,
      "id": "0b60414e",
      "metadata": {
        "execution": {
          "iopub.execute_input": "2021-12-09T23:46:11.311775Z",
          "iopub.status.busy": "2021-12-09T23:46:11.311111Z",
          "iopub.status.idle": "2021-12-09T23:46:12.347090Z",
          "shell.execute_reply": "2021-12-09T23:46:12.346498Z",
          "shell.execute_reply.started": "2021-12-09T23:36:49.022061Z"
        },
        "papermill": {
          "duration": 1.079271,
          "end_time": "2021-12-09T23:46:12.347282",
          "exception": false,
          "start_time": "2021-12-09T23:46:11.268011",
          "status": "completed"
        },
        "tags": [],
        "colab": {
          "base_uri": "https://localhost:8080/",
          "height": 405
        },
        "id": "0b60414e",
        "outputId": "6b86b98e-1717-44a7-c1b2-2ceca4e0c428"
      },
      "outputs": [
        {
          "output_type": "display_data",
          "data": {
            "text/plain": [
              "<Figure size 1152x576 with 1 Axes>"
            ],
            "image/png": "[encoded data removed]"
          },
          "metadata": {
            "needs_background": "light"
          }
        }
      ],
      "source": [
        "#Plotting High values of Bitcoin\n",
        "plt.figure(figsize=(16,8))\n",
        "plt.fill_between(bitcoin['Timestamp'], bitcoin['High'])\n",
        "plt.show()"
      ]
    },
    {
      "cell_type": "markdown",
      "id": "8dc24134",
      "metadata": {
        "papermill": {
          "duration": 0.041032,
          "end_time": "2021-12-09T23:46:12.431579",
          "exception": false,
          "start_time": "2021-12-09T23:46:12.390547",
          "status": "completed"
        },
        "tags": [],
        "id": "8dc24134"
      },
      "source": [
        "**Trading Volume_(BTC) as per Time**"
      ]
    },
    {
      "cell_type": "code",
      "execution_count": 15,
      "id": "9f1729eb",
      "metadata": {
        "execution": {
          "iopub.execute_input": "2021-12-09T23:46:12.520291Z",
          "iopub.status.busy": "2021-12-09T23:46:12.517863Z",
          "iopub.status.idle": "2021-12-09T23:46:13.403594Z",
          "shell.execute_reply": "2021-12-09T23:46:13.402936Z",
          "shell.execute_reply.started": "2021-12-09T23:36:50.024851Z"
        },
        "papermill": {
          "duration": 0.930762,
          "end_time": "2021-12-09T23:46:13.403735",
          "exception": false,
          "start_time": "2021-12-09T23:46:12.472973",
          "status": "completed"
        },
        "tags": [],
        "colab": {
          "base_uri": "https://localhost:8080/",
          "height": 426
        },
        "id": "9f1729eb",
        "outputId": "0d3c227b-803c-4073-ad6f-04899a76da3b"
      },
      "outputs": [
        {
          "output_type": "execute_result",
          "data": {
            "text/plain": [
              "[<matplotlib.lines.Line2D at 0x7f1391ba9750>]"
            ]
          },
          "metadata": {},
          "execution_count": 15
        },
        {
          "output_type": "display_data",
          "data": {
            "text/plain": [
              "<Figure size 1152x576 with 1 Axes>"
            ],
            "image/png": "[encoded data removed]"
          },
          "metadata": {
            "needs_background": "light"
          }
        }
      ],
      "source": [
        "#Plotting Trading Volume of Bitcoin\n",
        "plt.figure(figsize=(16,8))\n",
        "plt.plot(bitcoin['Timestamp'], bitcoin['Volume_(BTC)'])"
      ]
    },
    {
      "cell_type": "markdown",
      "id": "dd0523e4",
      "metadata": {
        "papermill": {
          "duration": 0.045616,
          "end_time": "2021-12-09T23:46:14.491912",
          "exception": false,
          "start_time": "2021-12-09T23:46:14.446296",
          "status": "completed"
        },
        "tags": [],
        "id": "dd0523e4"
      },
      "source": [
        "**Correlation**"
      ]
    },
    {
      "cell_type": "code",
      "execution_count": 16,
      "id": "f783a05e",
      "metadata": {
        "execution": {
          "iopub.execute_input": "2021-12-09T23:46:14.588632Z",
          "iopub.status.busy": "2021-12-09T23:46:14.587887Z",
          "iopub.status.idle": "2021-12-09T23:46:15.647612Z",
          "shell.execute_reply": "2021-12-09T23:46:15.648126Z",
          "shell.execute_reply.started": "2021-12-09T23:36:51.732929Z"
        },
        "papermill": {
          "duration": 1.11106,
          "end_time": "2021-12-09T23:46:15.648369",
          "exception": false,
          "start_time": "2021-12-09T23:46:14.537309",
          "status": "completed"
        },
        "tags": [],
        "colab": {
          "base_uri": "https://localhost:8080/",
          "height": 808
        },
        "id": "f783a05e",
        "outputId": "f23436e5-5108-4f0f-fca6-1a6e2ee6042f"
      },
      "outputs": [
        {
          "output_type": "execute_result",
          "data": {
            "text/plain": [
              "<matplotlib.axes._subplots.AxesSubplot at 0x7f1391b2d3d0>"
            ]
          },
          "metadata": {},
          "execution_count": 16
        },
        {
          "output_type": "display_data",
          "data": {
            "text/plain": [
              "<Figure size 864x864 with 2 Axes>"
            ],
            "image/png": "[encoded data removed]"
          },
          "metadata": {
            "needs_background": "light"
          }
        }
      ],
      "source": [
        "#Calculating Correlation\n",
        "corr=bitcoin.corr()\n",
        "\n",
        "#Plotting Correlation\n",
        "plt.figure(figsize=(12,12))\n",
        "sns.heatmap(corr,annot=True,cmap=\"GnBu\")"
      ]
    },
    {
      "cell_type": "markdown",
      "id": "e46d94d4",
      "metadata": {
        "papermill": {
          "duration": 0.047523,
          "end_time": "2021-12-09T23:46:15.743576",
          "exception": false,
          "start_time": "2021-12-09T23:46:15.696053",
          "status": "completed"
        },
        "tags": [],
        "id": "e46d94d4"
      },
      "source": [
        "# Using **PyCaret** for Forcasting Close price of Bitcoin"
      ]
    },
    {
      "cell_type": "markdown",
      "id": "d2dd5018",
      "metadata": {
        "papermill": {
          "duration": 0.046244,
          "end_time": "2021-12-09T23:46:15.836570",
          "exception": false,
          "start_time": "2021-12-09T23:46:15.790326",
          "status": "completed"
        },
        "tags": [],
        "id": "d2dd5018"
      },
      "source": [
        "PyCaret is an open-source, low-code machine learning library in Python that automates machine learning workflows. It is an end-to-end machine learning and model management tool that speeds up the experiment cycle exponentially and makes you more productive.\n",
        "\n",
        "The time series module is still in beta. The development team is adding new functionalities every day and doing weekly pip releases. Please ensure to create a separate python environment to avoid dependency conflicts with the main pycaret. The final release of this module will be merged with the main pycaret in the next major release.\n",
        "\n",
        "**[Website](https://pycaret.org/)** **[Github](https://github.com/pycaret/pycaret)** **[LinkedIn](https://www.linkedin.com/company/pycaret/)**"
      ]
    },
    {
      "cell_type": "code",
      "execution_count": 17,
      "id": "ed237c1b",
      "metadata": {
        "execution": {
          "iopub.execute_input": "2021-12-09T23:46:15.933592Z",
          "iopub.status.busy": "2021-12-09T23:46:15.932962Z",
          "iopub.status.idle": "2021-12-09T23:46:16.692736Z",
          "shell.execute_reply": "2021-12-09T23:46:16.692208Z",
          "shell.execute_reply.started": "2021-12-09T23:36:52.857779Z"
        },
        "papermill": {
          "duration": 0.809094,
          "end_time": "2021-12-09T23:46:16.692887",
          "exception": false,
          "start_time": "2021-12-09T23:46:15.883793",
          "status": "completed"
        },
        "tags": [],
        "colab": {
          "base_uri": "https://localhost:8080/",
          "height": 237
        },
        "id": "ed237c1b",
        "outputId": "c1691fa4-b8d5-4228-cbcb-b648d40d4a1b"
      },
      "outputs": [
        {
          "output_type": "execute_result",
          "data": {
            "text/plain": [
              "            Close\n",
              "Timestamp        \n",
              "2011-12-31   4.39\n",
              "2012-01-01   4.58\n",
              "2012-01-02   5.00\n",
              "2012-01-03   5.00\n",
              "2012-01-04   4.93"
            ],
            "text/html": [
              "\n",
              "  <div id=\"df-57c00c86-709b-4ea0-a397-dc35122b3c6c\">\n",
              "    <div class=\"colab-df-container\">\n",
              "      <div>\n",
              "<style scoped>\n",
              "    .dataframe tbody tr th:only-of-type {\n",
              "        vertical-align: middle;\n",
              "    }\n",
              "\n",
              "    .dataframe tbody tr th {\n",
              "        vertical-align: top;\n",
              "    }\n",
              "\n",
              "    .dataframe thead th {\n",
              "        text-align: right;\n",
              "    }\n",
              "</style>\n",
              "<table border=\"1\" class=\"dataframe\">\n",
              "  <thead>\n",
              "    <tr style=\"text-align: right;\">\n",
              "      <th></th>\n",
              "      <th>Close</th>\n",
              "    </tr>\n",
              "    <tr>\n",
              "      <th>Timestamp</th>\n",
              "      <th></th>\n",
              "    </tr>\n",
              "  </thead>\n",
              "  <tbody>\n",
              "    <tr>\n",
              "      <th>2011-12-31</th>\n",
              "      <td>4.39</td>\n",
              "    </tr>\n",
              "    <tr>\n",
              "      <th>2012-01-01</th>\n",
              "      <td>4.58</td>\n",
              "    </tr>\n",
              "    <tr>\n",
              "      <th>2012-01-02</th>\n",
              "      <td>5.00</td>\n",
              "    </tr>\n",
              "    <tr>\n",
              "      <th>2012-01-03</th>\n",
              "      <td>5.00</td>\n",
              "    </tr>\n",
              "    <tr>\n",
              "      <th>2012-01-04</th>\n",
              "      <td>4.93</td>\n",
              "    </tr>\n",
              "  </tbody>\n",
              "</table>\n",
              "</div>\n",
              "      <button class=\"colab-df-convert\" onclick=\"convertToInteractive('df-57c00c86-709b-4ea0-a397-dc35122b3c6c')\"\n",
              "              title=\"Convert this dataframe to an interactive table.\"\n",
              "              style=\"display:none;\">\n",
              "        \n",
              "  <svg xmlns=\"http://www.w3.org/2000/svg\" height=\"24px\"viewBox=\"0 0 24 24\"\n",
              "       width=\"24px\">\n",
              "    <path d=\"M0 0h24v24H0V0z\" fill=\"none\"/>\n",
              "    <path d=\"M18.56 5.44l.94 2.06.94-2.06 2.06-.94-2.06-.94-.94-2.06-.94 2.06-2.06.94zm-11 1L8.5 8.5l.94-2.06 2.06-.94-2.06-.94L8.5 2.5l-.94 2.06-2.06.94zm10 10l.94 2.06.94-2.06 2.06-.94-2.06-.94-.94-2.06-.94 2.06-2.06.94z\"/><path d=\"M17.41 7.96l-1.37-1.37c-.4-.4-.92-.59-1.43-.59-.52 0-1.04.2-1.43.59L10.3 9.45l-7.72 7.72c-.78.78-.78 2.05 0 2.83L4 21.41c.39.39.9.59 1.41.59.51 0 1.02-.2 1.41-.59l7.78-7.78 2.81-2.81c.8-.78.8-2.07 0-2.86zM5.41 20L4 18.59l7.72-7.72 1.47 1.35L5.41 20z\"/>\n",
              "  </svg>\n",
              "      </button>\n",
              "      \n",
              "  <style>\n",
              "    .colab-df-container {\n",
              "      display:flex;\n",
              "      flex-wrap:wrap;\n",
              "      gap: 12px;\n",
              "    }\n",
              "\n",
              "    .colab-df-convert {\n",
              "      background-color: #E8F0FE;\n",
              "      border: none;\n",
              "      border-radius: 50%;\n",
              "      cursor: pointer;\n",
              "      display: none;\n",
              "      fill: #1967D2;\n",
              "      height: 32px;\n",
              "      padding: 0 0 0 0;\n",
              "      width: 32px;\n",
              "    }\n",
              "\n",
              "    .colab-df-convert:hover {\n",
              "      background-color: #E2EBFA;\n",
              "      box-shadow: 0px 1px 2px rgba(60, 64, 67, 0.3), 0px 1px 3px 1px rgba(60, 64, 67, 0.15);\n",
              "      fill: #174EA6;\n",
              "    }\n",
              "\n",
              "    [theme=dark] .colab-df-convert {\n",
              "      background-color: #3B4455;\n",
              "      fill: #D2E3FC;\n",
              "    }\n",
              "\n",
              "    [theme=dark] .colab-df-convert:hover {\n",
              "      background-color: #434B5C;\n",
              "      box-shadow: 0px 1px 3px 1px rgba(0, 0, 0, 0.15);\n",
              "      filter: drop-shadow(0px 1px 2px rgba(0, 0, 0, 0.3));\n",
              "      fill: #FFFFFF;\n",
              "    }\n",
              "  </style>\n",
              "\n",
              "      <script>\n",
              "        const buttonEl =\n",
              "          document.querySelector('#df-57c00c86-709b-4ea0-a397-dc35122b3c6c button.colab-df-convert');\n",
              "        buttonEl.style.display =\n",
              "          google.colab.kernel.accessAllowed ? 'block' : 'none';\n",
              "\n",
              "        async function convertToInteractive(key) {\n",
              "          const element = document.querySelector('#df-57c00c86-709b-4ea0-a397-dc35122b3c6c');\n",
              "          const dataTable =\n",
              "            await google.colab.kernel.invokeFunction('convertToInteractive',\n",
              "                                                     [key], {});\n",
              "          if (!dataTable) return;\n",
              "\n",
              "          const docLinkHtml = 'Like what you see? Visit the ' +\n",
              "            '<a target=\"_blank\" href=https://colab.research.google.com/notebooks/data_table.ipynb>data table notebook</a>'\n",
              "            + ' to learn more about interactive tables.';\n",
              "          element.innerHTML = '';\n",
              "          dataTable['output_type'] = 'display_data';\n",
              "          await google.colab.output.renderOutput(dataTable, element);\n",
              "          const docLink = document.createElement('div');\n",
              "          docLink.innerHTML = docLinkHtml;\n",
              "          element.appendChild(docLink);\n",
              "        }\n",
              "      </script>\n",
              "    </div>\n",
              "  </div>\n",
              "  "
            ]
          },
          "metadata": {},
          "execution_count": 17
        }
      ],
      "source": [
        "#creating new data for forcasting  with timestamp and closing price\n",
        "close_price= bitcoin[['Timestamp', 'Close']].copy()\n",
        "close_price=close_price.set_index('Timestamp')\n",
        "close_price = close_price.groupby('Timestamp').sum()\n",
        "close_price = close_price.asfreq(method='ffill',freq='D', normalize=True)\n",
        "close_price.head()"
      ]
    },
    {
      "cell_type": "code",
      "source": [
        "len(close_price)"
      ],
      "metadata": {
        "colab": {
          "base_uri": "https://localhost:8080/"
        },
        "id": "Q6yslUlyECAa",
        "outputId": "b76d1d55-37ce-4d45-f5a5-390bec1bbbaa"
      },
      "id": "Q6yslUlyECAa",
      "execution_count": 18,
      "outputs": [
        {
          "output_type": "execute_result",
          "data": {
            "text/plain": [
              "3378"
            ]
          },
          "metadata": {},
          "execution_count": 18
        }
      ]
    },
    {
      "cell_type": "code",
      "execution_count": 19,
      "id": "7054142a",
      "metadata": {
        "execution": {
          "iopub.execute_input": "2021-12-09T23:46:16.793105Z",
          "iopub.status.busy": "2021-12-09T23:46:16.792492Z",
          "iopub.status.idle": "2021-12-09T23:46:17.176045Z",
          "shell.execute_reply": "2021-12-09T23:46:17.175567Z",
          "shell.execute_reply.started": "2021-12-09T23:36:53.617580Z"
        },
        "papermill": {
          "duration": 0.435653,
          "end_time": "2021-12-09T23:46:17.176197",
          "exception": false,
          "start_time": "2021-12-09T23:46:16.740544",
          "status": "completed"
        },
        "tags": [],
        "colab": {
          "base_uri": "https://localhost:8080/",
          "height": 298
        },
        "id": "7054142a",
        "outputId": "f63a6268-67f3-4a48-cf77-6de88e57b489"
      },
      "outputs": [
        {
          "output_type": "execute_result",
          "data": {
            "text/plain": [
              "<matplotlib.axes._subplots.AxesSubplot at 0x7f138ecb0310>"
            ]
          },
          "metadata": {},
          "execution_count": 19
        },
        {
          "output_type": "display_data",
          "data": {
            "text/plain": [
              "<Figure size 432x288 with 1 Axes>"
            ],
            "image/png": "[encoded data removed]"
          },
          "metadata": {
            "needs_background": "light"
          }
        }
      ],
      "source": [
        "#Plotting the chart\n",
        "close_price.plot()"
      ]
    },
    {
      "cell_type": "code",
      "source": [
        "from pycaret.internal.pycaret_experiment import TimeSeriesExperiment"
      ],
      "metadata": {
        "id": "H8qDotV1JTG4"
      },
      "id": "H8qDotV1JTG4",
      "execution_count": 20,
      "outputs": []
    },
    {
      "cell_type": "code",
      "source": [
        "pd.plotting.autocorrelation_plot(close_price)"
      ],
      "metadata": {
        "colab": {
          "base_uri": "https://localhost:8080/",
          "height": 302
        },
        "id": "QQFSMb6sJaGM",
        "outputId": "cdbff999-ded3-47e6-d729-5186c019559b"
      },
      "id": "QQFSMb6sJaGM",
      "execution_count": 21,
      "outputs": [
        {
          "output_type": "execute_result",
          "data": {
            "text/plain": [
              "<matplotlib.axes._subplots.AxesSubplot at 0x7f138eb1fbd0>"
            ]
          },
          "metadata": {},
          "execution_count": 21
        },
        {
          "output_type": "display_data",
          "data": {
            "text/plain": [
              "<Figure size 432x288 with 1 Axes>"
            ],
            "image/png": "[encoded data removed]"
          },
          "metadata": {
            "needs_background": "light"
          }
        }
      ]
    }
  ],
  "metadata": {
    "kernelspec": {
      "display_name": "Python 3",
      "language": "python",
      "name": "python3"
    },
    "language_info": {
      "codemirror_mode": {
        "name": "ipython",
        "version": 3
      },
      "file_extension": ".py",
      "mimetype": "text/x-python",
      "name": "python",
      "nbconvert_exporter": "python",
      "pygments_lexer": "ipython3",
      "version": "3.7.10"
    },
    "papermill": {
      "default_parameters": {},
      "duration": 281.453716,
      "end_time": "2021-12-09T23:49:47.228224",
      "environment_variables": {},
      "exception": null,
      "input_path": "__notebook__.ipynb",
      "output_path": "__notebook__.ipynb",
      "parameters": {},
      "start_time": "2021-12-09T23:45:05.774508",
      "version": "2.3.3"
    },
    "colab": {
      "provenance": [],
      "include_colab_link": true
    }
  },
  "nbformat": 4,
  "nbformat_minor": 5
}